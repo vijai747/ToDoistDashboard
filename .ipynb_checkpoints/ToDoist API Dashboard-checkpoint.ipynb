{
 "cells": [
  {
   "cell_type": "markdown",
   "metadata": {},
   "source": [
    "# Step 1: Introduction\n",
    "\n",
    "I use the popular ToDoist application to track all of my open tasks. ToDoist has many strengths - e.x. a clean user interface, presence on every platform, and gamification features (ToDoist Karma). One of its main flaws, however, is the omission of useful tools that could be used to track productivity.\n",
    "\n",
    "The purpose of this analysis is to use the ToDoist API to derive insights about how to improve my productivity. Some of the questions investigated are the following: \n",
    "\n",
    "- How many tasks were completed on a weekly basis?\n",
    "- What is the breakdown of completed tasks by required energy level?\n",
    "- Is there a correlation between number of total tasks completed and required energy level?\n",
    "- How many professional project tasks contain the word 'meeting' or 'ship'? "
   ]
  },
  {
   "cell_type": "markdown",
   "metadata": {},
   "source": [
    "# Step 2: Data Wrangling"
   ]
  },
  {
   "cell_type": "code",
   "execution_count": null,
   "metadata": {
    "collapsed": true
   },
   "outputs": [],
   "source": [
    "import pandas as pd\n",
    "import numpy as np\n",
    "import datetime\n",
    "from todoist.api import TodoistAPI\n",
    "import pytz\n",
    "import matplotlib.pyplot as plt\n",
    "import seaborn as sns\n",
    "\n",
    "myToken = '6de0c48443150c63ac197ac8fb141a00e471eb03'\n",
    "api = TodoistAPI(myToken)"
   ]
  },
  {
   "cell_type": "code",
   "execution_count": null,
   "metadata": {
    "scrolled": true
   },
   "outputs": [],
   "source": [
    "print(api.state['projects'][1:3])"
   ]
  },
  {
   "cell_type": "markdown",
   "metadata": {},
   "source": [
    "## Create Project Table"
   ]
  },
  {
   "cell_type": "code",
   "execution_count": null,
   "metadata": {
    "collapsed": true
   },
   "outputs": [],
   "source": [
    "def parseProjectData(sourceProjectData, idList, projectList, colorList, parentIdList):\n",
    "    \"\"\"Creates subset of relevant project data from raw API output.\n",
    "    Args:\n",
    "        sourceProjectData: Dictionary of project data pulled directly from ToDoist API.\n",
    "        idList: List containing project id(s).\n",
    "        projectList: List containing project names.\n",
    "        colorList: List containing project colors.\n",
    "        parentIdList: List containing parent id(s).\n",
    "\n",
    "    Returns:\n",
    "        idList: List containing project id(s).\n",
    "        projectList: List containing project names.\n",
    "        colorList: List containing project colors.\n",
    "        parentIdList: List containing parent id(s).\n",
    "    \"\"\"\n",
    "        \n",
    "    for sourceProject in sourceProjectData:\n",
    "        myId.append(sourceProject['id'])\n",
    "        myProjects.append(sourceProject['name'])\n",
    "        myColor.append(sourceProject['color'])\n",
    "        myParentId.append(sourceProject['parent_id'])\n",
    "    \n",
    "    return idList, projectList, colorList, parentIdList"
   ]
  },
  {
   "cell_type": "code",
   "execution_count": null,
   "metadata": {
    "collapsed": true
   },
   "outputs": [],
   "source": [
    "myId, myProjects, myColor, myParentId = [], [], [], [] \n",
    "\n",
    "currentProjectData = api.state['projects']\n",
    "archivedProjectData = api.projects.get_archived()\n",
    "\n",
    "myId, myProjects, myColor, myParentId = parseProjectData(currentProjectData, myId, myProjects, myColor, myParentId)\n",
    "# myId, myProjects, myColor, myParentId = parseProjectData(archivedProjectData, myId, myProjects, myColor, myParentId)"
   ]
  },
  {
   "cell_type": "code",
   "execution_count": null,
   "metadata": {
    "scrolled": true
   },
   "outputs": [],
   "source": [
    "projectTable = pd.DataFrame({'id' : myId,\n",
    "                        'parent_id' : myParentId,\n",
    "                        'color' : myColor }, index = myProjects, dtype = 'int64')\n",
    "\n",
    "projectTable = projectTable[['id','color','parent_id']]\n",
    "print (projectTable)"
   ]
  },
  {
   "cell_type": "markdown",
   "metadata": {},
   "source": [
    "## Create Item Table"
   ]
  },
  {
   "cell_type": "code",
   "execution_count": null,
   "metadata": {},
   "outputs": [],
   "source": [
    "rawItemList = api.completed.get_all(project_id = projectTable.loc['Professional','id'], limit = 50, offset = 0, until = '2017-6-29T10:13', since = '2017-5-29T10:13')\n",
    "len(rawItemList['items'])"
   ]
  },
  {
   "cell_type": "code",
   "execution_count": null,
   "metadata": {
    "collapsed": true
   },
   "outputs": [],
   "source": [
    "def my_range(start, end, step):\n",
    "    \"\"\"Custom loop counter.\n",
    "    Args:\n",
    "        start: Initial value.\n",
    "        end: Terminal value.\n",
    "        step: Increment value.\n",
    "\n",
    "    Returns:\n",
    "        start: List of loop values.\n",
    "    \"\"\"\n",
    "    while start < end:\n",
    "        yield start\n",
    "        start += step"
   ]
  },
  {
   "cell_type": "code",
   "execution_count": null,
   "metadata": {
    "scrolled": true
   },
   "outputs": [],
   "source": [
    "len(api.activity.get(object_type = 'item', event_type = 'completed', until = '2017-12-31T23:13', since = '2017-1-1T00:01', limit = 100))"
   ]
  },
  {
   "cell_type": "code",
   "execution_count": null,
   "metadata": {},
   "outputs": [],
   "source": [
    "endDate = '2017-10-31T23:59'\n",
    "startDate = '2017-08-01T00:01'\n",
    "\n",
    "#endDateFmt = datetime.datetime.strptime(endDate, \"%Y-%m-%dT%H:%M\")\n",
    "countDateFmt = datetime.datetime.strptime(endDate, \"%Y-%m-%dT%H:%M\")\n",
    "startDateFmt = datetime.datetime.strptime(startDate, \"%Y-%m-%dT%H:%M\")\n",
    "\n",
    "print (countDateFmt < startDateFmt)\n",
    "print (countDateFmt - datetime.timedelta(days=7))"
   ]
  },
  {
   "cell_type": "code",
   "execution_count": null,
   "metadata": {
    "collapsed": true
   },
   "outputs": [],
   "source": [
    "bufferSize = 50\n",
    "bufferStart = 0\n",
    "\n",
    "projectId, projectName, itemId, itemName, completedDate, label = [], [], [], [], [], []\n",
    "\n",
    "#for bufferStart in range(0,1500,50):\n",
    "while (countDateFmt > startDateFmt):\n",
    "    \n",
    "    itemBuffer = api.completed.get_all(limit = bufferSize, offset = bufferStart, until = endDate, since = startDate)\n",
    "    #print(int(len(itemBuffer['items'])))\n",
    "    bufferLength = int(len(itemBuffer['items']))\n",
    "    \n",
    "    for bufferIndex in my_range(0,bufferLength,1):\n",
    "        projectId.append(itemBuffer['items'][bufferIndex]['project_id'])\n",
    "        itemId.append(itemBuffer['items'][bufferIndex]['id'])\n",
    "        itemName.append(itemBuffer['items'][bufferIndex]['content'])\n",
    "        completedDate.append(itemBuffer['items'][bufferIndex]['completed_date'])\n",
    "    \n",
    "    bufferStart += bufferLength\n",
    "    countDateFmt = countDateFmt - datetime.timedelta(days=7)"
   ]
  },
  {
   "cell_type": "code",
   "execution_count": null,
   "metadata": {
    "scrolled": true
   },
   "outputs": [],
   "source": [
    "print (len(projectId))"
   ]
  },
  {
   "cell_type": "code",
   "execution_count": null,
   "metadata": {
    "collapsed": true
   },
   "outputs": [],
   "source": [
    "itemTable = pd.DataFrame({'Project_Id' : projectId,\n",
    "                          'Project' : None,\n",
    "                          'Item_Id' : itemId,\n",
    "                          'Content' : itemName,\n",
    "                          'Date' : completedDate,\n",
    "                          'Energy' : None,\n",
    "                          'Time' : None})\n",
    "\n",
    "itemTable = itemTable[['Project_Id', 'Project', 'Item_Id','Content', 'Date', 'Energy', 'Time']]"
   ]
  },
  {
   "cell_type": "code",
   "execution_count": null,
   "metadata": {},
   "outputs": [],
   "source": [
    "itemTable"
   ]
  },
  {
   "cell_type": "code",
   "execution_count": null,
   "metadata": {
    "scrolled": true
   },
   "outputs": [],
   "source": [
    "print (itemTable.loc[0][\"Date\"])"
   ]
  },
  {
   "cell_type": "code",
   "execution_count": null,
   "metadata": {},
   "outputs": [],
   "source": [
    "%run -i 'data_download_projects.py'"
   ]
  },
  {
   "cell_type": "code",
   "execution_count": null,
   "metadata": {},
   "outputs": [],
   "source": [
    "%run -i 'data_download_items.py'"
   ]
  },
  {
   "cell_type": "code",
   "execution_count": null,
   "metadata": {
    "collapsed": true
   },
   "outputs": [],
   "source": [
    "def localize_time(api_time, myTimeZone):\n",
    "    \"\"\"Convert timezone from UTC to local.\n",
    "    Args:\n",
    "        api_time: UTC time from ToDoist API.\n",
    "        myTimeZone: Pytz object generated for local timezone.\n",
    "\n",
    "    Returns:\n",
    "        api_time: Modified for local timezone in datetime object format.\n",
    "    \"\"\"    \n",
    "    api_time = datetime.datetime.strptime(api_time, \"%a %d %b %Y %H:%M:%S %z\")\n",
    "    \n",
    "    return api_time.astimezone(myTimeZone)"
   ]
  },
  {
   "cell_type": "code",
   "execution_count": null,
   "metadata": {
    "collapsed": true,
    "scrolled": true
   },
   "outputs": [],
   "source": [
    "def parse_full_date(local_date):\n",
    "    \"\"\"Converts date from Todoist format to mm/dd/yyyy\n",
    "    Args:\n",
    "        local_date: Localized date and time in ToDoist format.\n",
    "\n",
    "    Returns:\n",
    "        local_date: Modified for mm/dd/yyyy format.\n",
    "    \"\"\"    \n",
    "    return local_date.strftime('%m-%d-%Y')"
   ]
  },
  {
   "cell_type": "code",
   "execution_count": null,
   "metadata": {
    "collapsed": true
   },
   "outputs": [],
   "source": [
    "def energy_level(content):\n",
    "    \"\"\"Categorizes task by energy label.\n",
    "    Args:\n",
    "        content: Complete task description from ToDoist.\n",
    "\n",
    "    Returns:\n",
    "        Appropriate energy label in string format.\n",
    "    \"\"\"\n",
    "    if (content.find(\"@High-energy\") != -1):\n",
    "        return \"High-energy\"\n",
    "    elif (content.find(\"@Normal-energy\") != -1):\n",
    "        return \"Normal-energy\"\n",
    "    elif (content.find(\"@Low-energy\") != -1):\n",
    "        return \"Low-energy\"\n",
    "    else:\n",
    "        return None"
   ]
  },
  {
   "cell_type": "code",
   "execution_count": null,
   "metadata": {
    "collapsed": true
   },
   "outputs": [],
   "source": [
    "def time_effort(content):\n",
    "    \"\"\"Categorizes task by time label.\n",
    "    Args:\n",
    "        content: Complete task description from ToDoist.\n",
    "\n",
    "    Returns:\n",
    "        Appropriate time label in int format.\n",
    "    \"\"\"\n",
    "    if (content.find(\"@60-minutes\") != -1 ):\n",
    "        return 60\n",
    "    elif (content.find(\"@30-minutes\") != -1):\n",
    "        return 30\n",
    "    elif (content.find(\"@5-minutes\") != -1):\n",
    "        return 5\n",
    "    else:\n",
    "        return None"
   ]
  },
  {
   "cell_type": "code",
   "execution_count": null,
   "metadata": {
    "collapsed": true
   },
   "outputs": [],
   "source": [
    "def project_link(project_id):\n",
    "    \"\"\"Links project id with project name\n",
    "    Args:\n",
    "        project_id: Identifier for project in int format.\n",
    "\n",
    "    Returns:\n",
    "        Project name in string format.\n",
    "    \"\"\"    \n",
    "    return (str(projectTable.index[projectTable['id'] == project_id][0]))"
   ]
  },
  {
   "cell_type": "code",
   "execution_count": null,
   "metadata": {},
   "outputs": [],
   "source": [
    "# Convert completed time from UTC to EST\n",
    "myTimeZone = pytz.timezone('US/Eastern')\n",
    "itemTable[\"Date\"] = itemTable[\"Date\"].apply(localize_time, args=(myTimeZone,))\n",
    "\n",
    "Strip local time to include date only\n",
    "#itemTable[\"Date\"] = itemTable[\"Date\"].map(parse_full_date)\n",
    "\n",
    "# Categorize energy labels\n",
    "itemTable[\"Energy\"] = itemTable[\"Content\"].map(energy_level)\n",
    "\n",
    "# Categorize time labels\n",
    "itemTable[\"Time\"] = itemTable[\"Content\"].map(time_effort)\n",
    "\n",
    "# Match project id with project name\n",
    "itemTable[\"Project\"] = itemTable[\"Project_Id\"].apply(project_link)"
   ]
  },
  {
   "cell_type": "code",
   "execution_count": null,
   "metadata": {
    "scrolled": false
   },
   "outputs": [],
   "source": [
    "itemTable.iloc[0:30]"
   ]
  },
  {
   "cell_type": "markdown",
   "metadata": {
    "collapsed": true
   },
   "source": [
    "# Step 3: Data Analysis"
   ]
  },
  {
   "cell_type": "markdown",
   "metadata": {},
   "source": [
    "## Number of tasks completed each week\n",
    "\n",
    "I am quite interested in investigating how many tasks I completed each week for the past year. In order to do this, I'll group the number of items completed each week (in the Item Table) and plot that information."
   ]
  },
  {
   "cell_type": "code",
   "execution_count": null,
   "metadata": {
    "collapsed": true
   },
   "outputs": [],
   "source": [
    "# Produces a Pandas groupby object with date, project as keys, and indices of relevant columns\n",
    "gDateProject_all = itemTable.groupby([pd.Grouper(freq='1W', key='Date'),'Project'], as_index=True)\n",
    "\n",
    "# Gives list of dictionary keys and indices of relevant columns\n",
    "gDateProject_all.groups\n",
    "\n",
    "# Gives count of items in grouped list (by dictionary key)\n",
    "gDateProject_all.count()\n",
    "\n",
    "# Gets slice of relevant column from grouped dataframe\n",
    "gDateProject_content = gDateProject_all['Content']\n",
    "\n",
    "# Gives count of items from sliced column\n",
    "gDateProject_content = gDateProject_content.count()\n",
    "#gDateProject_content"
   ]
  },
  {
   "cell_type": "code",
   "execution_count": null,
   "metadata": {
    "collapsed": true
   },
   "outputs": [],
   "source": [
    "# Groups already grouped dataframe by parent index (level=0) AND sums it up\n",
    "gDate_content_count = gDateProject_content.groupby(level=0)\n",
    "gDate_content_count = gDate_content_count.sum()\n",
    "#gDate_content_count"
   ]
  },
  {
   "cell_type": "code",
   "execution_count": null,
   "metadata": {
    "collapsed": true,
    "scrolled": true
   },
   "outputs": [],
   "source": [
    "# Raw table showing all the tasks completed each week this year\n",
    "gDate_vProject = gDateProject_content.unstack(level=1, fill_value=0)\n",
    "gDate_vProject"
   ]
  },
  {
   "cell_type": "code",
   "execution_count": null,
   "metadata": {
    "collapsed": true,
    "scrolled": false
   },
   "outputs": [],
   "source": [
    "%pylab inline\n",
    "\n",
    "stackTaskCompleted = gDate_vProject.plot.bar(stacked=True, figsize=(15, 15))\n",
    "stackTaskCompleted.set_ylabel(\"Tasks Completed\")\n",
    "stackTaskCompleted.set_title(\"Weekly Task Completion\")"
   ]
  },
  {
   "cell_type": "markdown",
   "metadata": {},
   "source": [
    "It's interesting to note some of the peaks and valley's in the graph above (each x-axis label represents the date on which a week ends): \n",
    "- I was puzzled by low task completion numbers at the end of March and early April. Upon further reflection, I realized that during this time period I was in Europe with my parents (on vacation).\n",
    "- There were a few weeks at the end of July and during August which were extremely fruitful. Unsurprising, since that month involved a sprint to complete my Intro to Programming Nanodegree, moving apartments, important work deadlines, and preparation for my trip to Japan.\n",
    "\n",
    "This information is quite interesting, but I know that not all tasks are created equal. Completing a dizzying array of low-energy tasks (taking out the trash, buying tickets to a show, cancelling my Comcast subscription, etc) doesn't really help me achieve big, hairy goals."
   ]
  },
  {
   "cell_type": "markdown",
   "metadata": {},
   "source": [
    "# Relationship between energy level and overall task completion\n",
    "\n",
    "In order to get a more accurate picture of productivity, I want to compare the number of high-energy tasks (which require deep work) agains the total number of tasks completed in each week. \n",
    "\n",
    "Below, I first graph the overall breakdown of tasks by energy type. Second, I compare the number of total tasks completed with the number of high energy tasks completed each week."
   ]
  },
  {
   "cell_type": "code",
   "execution_count": null,
   "metadata": {
    "collapsed": true,
    "scrolled": false
   },
   "outputs": [],
   "source": [
    "# Plot of tasks completed each week by energy level\n",
    "\n",
    "gDateEnergy = itemTable.groupby([pd.Grouper(freq='1W', key='Date'),'Energy'], as_index=True)\n",
    "gDateEnergy_content = gDateEnergy['Content']\n",
    "\n",
    "# cust = itemTable.groupby(['Energy'], as_index=True)\n",
    "# cust.get_group('Normal-energy')"
   ]
  },
  {
   "cell_type": "code",
   "execution_count": null,
   "metadata": {
    "collapsed": true
   },
   "outputs": [],
   "source": [
    "gDateEnergy_plot = gDateEnergy_content.count().unstack().plot.bar(stacked=True, figsize=(10, 10))\n",
    "gDateEnergy_plot.set_title('Task Completion (Sorted by Energy Level)')\n",
    "gDateEnergy_plot.set_ylabel(\"Tasks Completed\")"
   ]
  },
  {
   "cell_type": "code",
   "execution_count": null,
   "metadata": {
    "collapsed": true
   },
   "outputs": [],
   "source": [
    "# gDateEnergy_content.count()\n",
    "gDate_vEnergy = gDateEnergy_content.count().unstack()\n",
    "gDate_vEnergy = gDate_vEnergy.fillna(0)"
   ]
  },
  {
   "cell_type": "code",
   "execution_count": null,
   "metadata": {
    "collapsed": true,
    "scrolled": true
   },
   "outputs": [],
   "source": [
    "gDate_vEnergy['Total'] = gDate_vEnergy.sum(axis=1)\n",
    "gDate_vEnergy"
   ]
  },
  {
   "cell_type": "code",
   "execution_count": null,
   "metadata": {
    "collapsed": true,
    "scrolled": false
   },
   "outputs": [],
   "source": [
    "highEnergy_vTotal = gDate_vEnergy.plot(x='Total', y='High-energy', style='o', figsize=(10, 10))\n",
    "highEnergy_vTotal.set_xlim([0,53])\n",
    "highEnergy_vTotal.set_ylim([-1,12])\n",
    "highEnergy_vTotal.set_title('Relationship b/w high energy and total task count')\n",
    "highEnergy_vTotal.set_xlabel('# Of Total Tasks')\n",
    "highEnergy_vTotal.set_ylabel('# Of High-Energy Tasks')\n",
    "\n",
    "gDate_vEnergy_x = gDate_vEnergy['Total']\n",
    "gDate_vEnergy_y = gDate_vEnergy['High-energy']\n",
    "\n",
    "gDate_vEnergy_fit = np.polyfit(gDate_vEnergy_x, gDate_vEnergy_y, deg=1)\n",
    "highEnergy_vTotal.plot(gDate_vEnergy_x, gDate_vEnergy_fit[0] * gDate_vEnergy_x + gDate_vEnergy_fit[1], color='red')\n",
    "\n",
    "highEnergy_vTotal_corr = gDate_vEnergy['High-energy'].corr(gDate_vEnergy['Total'])\n",
    "print ('Correlation: ' + str(round(highEnergy_vTotal_corr,2)))\n",
    "\n",
    "# gDateEnergy_content.count().groupby(level=1).sum()"
   ]
  },
  {
   "cell_type": "markdown",
   "metadata": {},
   "source": [
    "As shown by the plot, there is a positive correlation between the number of high-energy tasks and the total number of tasks completed each week. This result was quite surprising to me. My intuition suggested that I got a fewer total number of tasks completed on the weeks that I got a lot of high-energy tasks done (because they tend to take a longer amount of time). But as it turns out, getting high-energy tasks motivates me to get more done overall."
   ]
  },
  {
   "cell_type": "markdown",
   "metadata": {},
   "source": [
    "## Miscellaneous"
   ]
  },
  {
   "cell_type": "markdown",
   "metadata": {},
   "source": [
    "One of my side responsibilites at work is to coordinate the receipt and shipment of prototype parts to other locations. I was curious to see how many shipments I had made (by filtering tasks by the word \"ship\")."
   ]
  },
  {
   "cell_type": "code",
   "execution_count": null,
   "metadata": {
    "collapsed": true
   },
   "outputs": [],
   "source": [
    "ship_hash = itemTable['Content'].str.contains(\"ship\")\n",
    "print (\"Total Shipments : \" + str(ship_hash.sum()))"
   ]
  },
  {
   "cell_type": "markdown",
   "metadata": {},
   "source": [
    "Wow! That's a lot of shipments. I'm going to discuss this with my manager to see whether we can hire someone to make shipments for us.\n",
    "\n",
    "Next, I was interested to investigate how many meetings I had attended or hosted."
   ]
  },
  {
   "cell_type": "code",
   "execution_count": null,
   "metadata": {
    "collapsed": true
   },
   "outputs": [],
   "source": [
    "itemTable['Content'] = itemTable['Content'].str.lower()\n",
    "meeting_hash = itemTable['Content'].str.contains(\"meeting\")\n",
    "print (\"Total Meeting Count : \" + str(meeting_hash.sum()))"
   ]
  },
  {
   "cell_type": "code",
   "execution_count": null,
   "metadata": {
    "collapsed": true
   },
   "outputs": [],
   "source": [
    "totalMeetingTime = ((itemTable['Time'] * meeting_hash).sum()) / 60\n",
    "print (\"Total Meeting Time : \" + str(round(totalMeetingTime)) + \" \" + \"Hours\")"
   ]
  },
  {
   "cell_type": "markdown",
   "metadata": {},
   "source": [
    "Overall, I spent over a month in meetings (assuming 40hr work weeks) this year! Because of the nature of my work, it is unlikely that I will ever be able to get this close to zero. However, I wouldn't be surprised if I could reduce meeting time in half; I should also have a discussion with my manager on how to do this."
   ]
  },
  {
   "cell_type": "markdown",
   "metadata": {},
   "source": [
    "# Conclusion\n",
    "\n",
    "This project was quite helpful in understanding some basic facts about my productivity history:\n",
    "\n",
    "- Overall, I learned that the end of June and early August were my most productive months (when I had quite a few parallel projects due)\n",
    "- There is a positive correlation between the number of high-level energy tasks completed and total tasks. Getting the hard tasks accomplished may motivate me to complete more of the easier tasks.\n",
    "- I've spent a significant portion of my time (over 150+ hours) in meetings and making shipments. I need to have a discussion about these two topics with manager to see how we can reduce the amount of time spent on them.\n",
    "\n",
    "Completing this analyis only leads to more questions, however. In a future revision to this project, I would be curious to explore the following:\n",
    "- How did the number of meetings in a week affect the total number of high-energy tasks completed?\n",
    "- Why exactly was I able to complete more high-energy tasks in certain weeks as opposed to others? Could the number of my social engagements with friends have had an impact?\n",
    "- Was I able to complete high-energy tasks during the week or on the weekend?\n"
   ]
  }
 ],
 "metadata": {
  "kernelspec": {
   "display_name": "Python 3",
   "language": "python",
   "name": "python3"
  },
  "language_info": {
   "codemirror_mode": {
    "name": "ipython",
    "version": 3
   },
   "file_extension": ".py",
   "mimetype": "text/x-python",
   "name": "python",
   "nbconvert_exporter": "python",
   "pygments_lexer": "ipython3",
   "version": "3.6.2"
  }
 },
 "nbformat": 4,
 "nbformat_minor": 2
}
