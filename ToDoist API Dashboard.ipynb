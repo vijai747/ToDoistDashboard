{
 "cells": [
  {
   "cell_type": "markdown",
   "metadata": {},
   "source": [
    "# Step 1: Introduction\n",
    "\n",
    "I use the popular ToDoist application to track all of my open tasks. ToDoist has many strengths - e.x. a clean user interface, presence on every platform, and gamification features (ToDoist Karma). One of its main flaws, however, is the omission of useful tools that could be used to track productivity.\n",
    "\n",
    "The purpose of this analysis is to use the ToDoist API to derive insights about how to improve my productivity. Some of the questions investigated are the following: \n",
    "\n",
    "- How many tasks were completed on a weekly basis?\n",
    "- What is the breakdown of completed tasks by required energy level?\n",
    "- Is there a correlation between number of total tasks completed and required energy level?\n",
    "- How many professional project tasks contain the word 'meeting' or 'ship'? "
   ]
  },
  {
   "cell_type": "markdown",
   "metadata": {},
   "source": [
    "# Step 2: Data Wrangling"
   ]
  },
  {
   "cell_type": "code",
   "execution_count": 1,
   "metadata": {
    "collapsed": true
   },
   "outputs": [],
   "source": [
    "import pandas as pd\n",
    "import numpy as np\n",
    "import datetime\n",
    "from todoist.api import TodoistAPI\n",
    "import pytz\n",
    "import matplotlib.pyplot as plt\n",
    "import seaborn as sns\n",
    "\n",
    "myToken = '6de0c48443150c63ac197ac8fb141a00e471eb03'\n",
    "api = TodoistAPI(myToken)"
   ]
  },
  {
   "cell_type": "code",
   "execution_count": null,
   "metadata": {
    "scrolled": true
   },
   "outputs": [],
   "source": [
    "print(api.state['projects'][1:3])"
   ]
  },
  {
   "cell_type": "markdown",
   "metadata": {},
   "source": [
    "## Create Project Table"
   ]
  },
  {
   "cell_type": "code",
   "execution_count": null,
   "metadata": {
    "collapsed": true
   },
   "outputs": [],
   "source": [
    "def parseProjectData(sourceProjectData, idList, projectList, colorList, parentIdList):\n",
    "    \"\"\"Creates subset of relevant project data from raw API output.\n",
    "    Args:\n",
    "        sourceProjectData: Dictionary of project data pulled directly from ToDoist API.\n",
    "        idList: List containing project id(s).\n",
    "        projectList: List containing project names.\n",
    "        colorList: List containing project colors.\n",
    "        parentIdList: List containing parent id(s).\n",
    "\n",
    "    Returns:\n",
    "        idList: List containing project id(s).\n",
    "        projectList: List containing project names.\n",
    "        colorList: List containing project colors.\n",
    "        parentIdList: List containing parent id(s).\n",
    "    \"\"\"\n",
    "        \n",
    "    for sourceProject in sourceProjectData:\n",
    "        myId.append(sourceProject['id'])\n",
    "        myProjects.append(sourceProject['name'])\n",
    "        myColor.append(sourceProject['color'])\n",
    "        myParentId.append(sourceProject['parent_id'])\n",
    "    \n",
    "    return idList, projectList, colorList, parentIdList"
   ]
  },
  {
   "cell_type": "code",
   "execution_count": null,
   "metadata": {
    "collapsed": true
   },
   "outputs": [],
   "source": [
    "myId, myProjects, myColor, myParentId = [], [], [], [] \n",
    "\n",
    "currentProjectData = api.state['projects']\n",
    "archivedProjectData = api.projects.get_archived()\n",
    "\n",
    "myId, myProjects, myColor, myParentId = parseProjectData(currentProjectData, myId, myProjects, myColor, myParentId)\n",
    "# myId, myProjects, myColor, myParentId = parseProjectData(archivedProjectData, myId, myProjects, myColor, myParentId)"
   ]
  },
  {
   "cell_type": "code",
   "execution_count": null,
   "metadata": {
    "scrolled": true
   },
   "outputs": [],
   "source": [
    "projectTable = pd.DataFrame({'id' : myId,\n",
    "                        'parent_id' : myParentId,\n",
    "                        'color' : myColor }, index = myProjects, dtype = 'int64')\n",
    "\n",
    "projectTable = projectTable[['id','color','parent_id']]\n",
    "print (projectTable)"
   ]
  },
  {
   "cell_type": "markdown",
   "metadata": {},
   "source": [
    "## Create Item Table"
   ]
  },
  {
   "cell_type": "code",
   "execution_count": null,
   "metadata": {},
   "outputs": [],
   "source": [
    "rawItemList = api.completed.get_all(project_id = projectTable.loc['Professional','id'], limit = 50, offset = 0, until = '2017-6-29T10:13', since = '2017-5-29T10:13')\n",
    "len(rawItemList['items'])"
   ]
  },
  {
   "cell_type": "code",
   "execution_count": null,
   "metadata": {
    "collapsed": true
   },
   "outputs": [],
   "source": [
    "def my_range(start, end, step):\n",
    "    \"\"\"Custom loop counter.\n",
    "    Args:\n",
    "        start: Initial value.\n",
    "        end: Terminal value.\n",
    "        step: Increment value.\n",
    "\n",
    "    Returns:\n",
    "        start: List of loop values.\n",
    "    \"\"\"\n",
    "    while start < end:\n",
    "        yield start\n",
    "        start += step"
   ]
  },
  {
   "cell_type": "code",
   "execution_count": null,
   "metadata": {
    "scrolled": true
   },
   "outputs": [],
   "source": [
    "len(api.activity.get(object_type = 'item', event_type = 'completed', until = '2017-12-31T23:13', since = '2017-1-1T00:01', limit = 100))"
   ]
  },
  {
   "cell_type": "code",
   "execution_count": null,
   "metadata": {},
   "outputs": [],
   "source": [
    "endDate = '2017-10-31T23:59'\n",
    "startDate = '2017-08-01T00:01'\n",
    "\n",
    "#endDateFmt = datetime.datetime.strptime(endDate, \"%Y-%m-%dT%H:%M\")\n",
    "countDateFmt = datetime.datetime.strptime(endDate, \"%Y-%m-%dT%H:%M\")\n",
    "startDateFmt = datetime.datetime.strptime(startDate, \"%Y-%m-%dT%H:%M\")\n",
    "\n",
    "print (countDateFmt < startDateFmt)\n",
    "print (countDateFmt - datetime.timedelta(days=7))"
   ]
  },
  {
   "cell_type": "code",
   "execution_count": null,
   "metadata": {
    "collapsed": true
   },
   "outputs": [],
   "source": [
    "bufferSize = 50\n",
    "bufferStart = 0\n",
    "\n",
    "projectId, projectName, itemId, itemName, completedDate, label = [], [], [], [], [], []\n",
    "\n",
    "#for bufferStart in range(0,1500,50):\n",
    "while (countDateFmt > startDateFmt):\n",
    "    \n",
    "    itemBuffer = api.completed.get_all(limit = bufferSize, offset = bufferStart, until = endDate, since = startDate)\n",
    "    #print(int(len(itemBuffer['items'])))\n",
    "    bufferLength = int(len(itemBuffer['items']))\n",
    "    \n",
    "    for bufferIndex in my_range(0,bufferLength,1):\n",
    "        projectId.append(itemBuffer['items'][bufferIndex]['project_id'])\n",
    "        itemId.append(itemBuffer['items'][bufferIndex]['id'])\n",
    "        itemName.append(itemBuffer['items'][bufferIndex]['content'])\n",
    "        completedDate.append(itemBuffer['items'][bufferIndex]['completed_date'])\n",
    "    \n",
    "    bufferStart += bufferLength\n",
    "    countDateFmt = countDateFmt - datetime.timedelta(days=7)"
   ]
  },
  {
   "cell_type": "code",
   "execution_count": null,
   "metadata": {
    "scrolled": true
   },
   "outputs": [],
   "source": [
    "print (len(projectId))"
   ]
  },
  {
   "cell_type": "code",
   "execution_count": null,
   "metadata": {
    "collapsed": true
   },
   "outputs": [],
   "source": [
    "itemTable = pd.DataFrame({'Project_Id' : projectId,\n",
    "                          'Project' : None,\n",
    "                          'Item_Id' : itemId,\n",
    "                          'Content' : itemName,\n",
    "                          'Date' : completedDate,\n",
    "                          'Energy' : None,\n",
    "                          'Time' : None})\n",
    "\n",
    "itemTable = itemTable[['Project_Id', 'Project', 'Item_Id','Content', 'Date', 'Energy', 'Time']]"
   ]
  },
  {
   "cell_type": "code",
   "execution_count": null,
   "metadata": {},
   "outputs": [],
   "source": [
    "itemTable"
   ]
  },
  {
   "cell_type": "code",
   "execution_count": null,
   "metadata": {
    "scrolled": true
   },
   "outputs": [],
   "source": [
    "print (itemTable.loc[0][\"Date\"])"
   ]
  },
  {
   "cell_type": "code",
   "execution_count": 2,
   "metadata": {},
   "outputs": [
    {
     "name": "stdout",
     "output_type": "stream",
     "text": [
      "                          id  color  parent_id\n",
      "Inbox              180416404      7       None\n",
      "Personal           180416408      8       None\n",
      "Habits             190555550     17  180416408\n",
      "Development        187244722     12  180416408\n",
      "Community Bucket   194942145     15  180416408\n",
      "Apartment Move    2158162262      1  180416408\n",
      "Family             189435039     19       None\n",
      "Professional       181003063     11       None\n",
      "Assembly Drawing  2160008763      6  181003063\n",
      "Shopping           180431991      2       None\n",
      "Future Projects    182035396      8       None\n",
      "Bucket List       2148533029     15       None\n",
      "   Project_Id Project     Item_Id  \\\n",
      "0   190555550    None  2200735265   \n",
      "1   190555550    None    87202330   \n",
      "2   180416408    None  2453991536   \n",
      "3   190555550    None    84028045   \n",
      "4  2165537638    None  2449385146   \n",
      "5   180416408    None  2453016179   \n",
      "6   180416408    None  2453016018   \n",
      "7  2165537638    None  2449385064   \n",
      "8  2165537638    None  2449384974   \n",
      "9  2165537638    None  2449384886   \n",
      "\n",
      "                                             Content  \\\n",
      "0  Do the laundry and fold clothes (if time allow...   \n",
      "1  Conduct GTD weekly review according to templat...   \n",
      "2  Sort items for Keep and Donation in Jesse's ro...   \n",
      "3  Do some form of physical activity (run, lift, ...   \n",
      "4  PlanningGraph.h_levelsum method @30-minutes @H...   \n",
      "5  Deliver cube storage unit to Shamika in Greenb...   \n",
      "6  Sort items from basement and closet into piles...   \n",
      "7  PlanningGraph.inconsistent_support_mutex metho...   \n",
      "8  PlanningGraph.negation_mutex method @Low-energ...   \n",
      "9  PlanningGraph.competing_needs_mutex method @30...   \n",
      "\n",
      "                             Date Energy  Time  \n",
      "0  Sun 31 Dec 2017 14:27:08 +0000   None  None  \n",
      "1  Sun 31 Dec 2017 14:27:04 +0000   None  None  \n",
      "2  Sun 31 Dec 2017 14:12:46 +0000   None  None  \n",
      "3  Sun 31 Dec 2017 14:11:41 +0000   None  None  \n",
      "4  Sat 30 Dec 2017 15:24:19 +0000   None  None  \n",
      "5  Sat 30 Dec 2017 03:34:41 +0000   None  None  \n",
      "6  Sat 30 Dec 2017 03:34:07 +0000   None  None  \n",
      "7  Sat 30 Dec 2017 01:47:32 +0000   None  None  \n",
      "8  Sat 30 Dec 2017 01:36:38 +0000   None  None  \n",
      "9  Sat 30 Dec 2017 01:23:19 +0000   None  None  \n",
      "(1482, 7)\n"
     ]
    }
   ],
   "source": [
    "%run -i 'data_download.py'"
   ]
  },
  {
   "cell_type": "code",
   "execution_count": 3,
   "metadata": {
    "collapsed": true
   },
   "outputs": [],
   "source": [
    "def localize_time(api_time, myTimeZone):\n",
    "    \"\"\"Convert timezone from UTC to local.\n",
    "    Args:\n",
    "        api_time: UTC time from ToDoist API.\n",
    "        myTimeZone: Pytz object generated for local timezone.\n",
    "\n",
    "    Returns:\n",
    "        api_time: Modified for local timezone in datetime object format.\n",
    "    \"\"\"    \n",
    "    api_time = datetime.datetime.strptime(api_time, \"%a %d %b %Y %H:%M:%S %z\")\n",
    "    \n",
    "    return api_time.astimezone(myTimeZone)"
   ]
  },
  {
   "cell_type": "code",
   "execution_count": 4,
   "metadata": {
    "collapsed": true,
    "scrolled": true
   },
   "outputs": [],
   "source": [
    "def parse_full_date(local_date):\n",
    "    \"\"\"Converts date from Todoist format to mm/dd/yyyy\n",
    "    Args:\n",
    "        local_date: Localized date and time in ToDoist format.\n",
    "\n",
    "    Returns:\n",
    "        local_date: Modified for mm/dd/yyyy format.\n",
    "    \"\"\"    \n",
    "    return local_date.strftime('%m-%d-%Y')"
   ]
  },
  {
   "cell_type": "code",
   "execution_count": 5,
   "metadata": {
    "collapsed": true
   },
   "outputs": [],
   "source": [
    "def energy_level(content):\n",
    "    \"\"\"Categorizes task by energy label.\n",
    "    Args:\n",
    "        content: Complete task description from ToDoist.\n",
    "\n",
    "    Returns:\n",
    "        Appropriate energy label in string format.\n",
    "    \"\"\"\n",
    "    if (content.find(\"@High-energy\") != -1):\n",
    "        return \"High-energy\"\n",
    "    elif (content.find(\"@Normal-energy\") != -1):\n",
    "        return \"Normal-energy\"\n",
    "    elif (content.find(\"@Low-energy\") != -1):\n",
    "        return \"Low-energy\"\n",
    "    else:\n",
    "        return None"
   ]
  },
  {
   "cell_type": "code",
   "execution_count": 6,
   "metadata": {
    "collapsed": true
   },
   "outputs": [],
   "source": [
    "def time_effort(content):\n",
    "    \"\"\"Categorizes task by time label.\n",
    "    Args:\n",
    "        content: Complete task description from ToDoist.\n",
    "\n",
    "    Returns:\n",
    "        Appropriate time label in int format.\n",
    "    \"\"\"\n",
    "    if (content.find(\"@60-minutes\") != -1 ):\n",
    "        return 60\n",
    "    elif (content.find(\"@30-minutes\") != -1):\n",
    "        return 30\n",
    "    elif (content.find(\"@5-minutes\") != -1):\n",
    "        return 5\n",
    "    else:\n",
    "        return None"
   ]
  },
  {
   "cell_type": "code",
   "execution_count": 7,
   "metadata": {
    "collapsed": true
   },
   "outputs": [],
   "source": [
    "def project_link(project_id):\n",
    "    \"\"\"Links project id with project name\n",
    "    Args:\n",
    "        project_id: Identifier for project in int format.\n",
    "\n",
    "    Returns:\n",
    "        Project name in string format.\n",
    "    \"\"\"    \n",
    "    return (str(projectTable.index[projectTable['id'] == project_id][0]))"
   ]
  },
  {
   "cell_type": "code",
   "execution_count": 8,
   "metadata": {},
   "outputs": [],
   "source": [
    "# Convert completed time from UTC to EST\n",
    "myTimeZone = pytz.timezone('US/Eastern')\n",
    "itemTable[\"Date\"] = itemTable[\"Date\"].apply(localize_time, args=(myTimeZone,))\n",
    "\n",
    "# # Strip local time to include date only\n",
    "# #itemTable[\"Date\"] = itemTable[\"Date\"].map(parse_full_date)\n",
    "\n",
    "# # Categorize energy labels\n",
    "# itemTable[\"Energy\"] = itemTable[\"Content\"].map(energy_level)\n",
    "\n",
    "# # Categorize time labels\n",
    "# itemTable[\"Time\"] = itemTable[\"Content\"].map(time_effort)\n",
    "\n",
    "# # Match project id with project name\n",
    "# itemTable[\"Project\"] = itemTable[\"Project_Id\"].apply(project_link)"
   ]
  },
  {
   "cell_type": "code",
   "execution_count": 9,
   "metadata": {
    "scrolled": false
   },
   "outputs": [
    {
     "data": {
      "text/html": [
       "<div>\n",
       "<style>\n",
       "    .dataframe thead tr:only-child th {\n",
       "        text-align: right;\n",
       "    }\n",
       "\n",
       "    .dataframe thead th {\n",
       "        text-align: left;\n",
       "    }\n",
       "\n",
       "    .dataframe tbody tr th {\n",
       "        vertical-align: top;\n",
       "    }\n",
       "</style>\n",
       "<table border=\"1\" class=\"dataframe\">\n",
       "  <thead>\n",
       "    <tr style=\"text-align: right;\">\n",
       "      <th></th>\n",
       "      <th>Project_Id</th>\n",
       "      <th>Project</th>\n",
       "      <th>Item_Id</th>\n",
       "      <th>Content</th>\n",
       "      <th>Date</th>\n",
       "      <th>Energy</th>\n",
       "      <th>Time</th>\n",
       "    </tr>\n",
       "  </thead>\n",
       "  <tbody>\n",
       "    <tr>\n",
       "      <th>0</th>\n",
       "      <td>190555550</td>\n",
       "      <td>None</td>\n",
       "      <td>2200735265</td>\n",
       "      <td>Do the laundry and fold clothes (if time allow...</td>\n",
       "      <td>2017-12-31 09:27:08-05:00</td>\n",
       "      <td>None</td>\n",
       "      <td>None</td>\n",
       "    </tr>\n",
       "    <tr>\n",
       "      <th>1</th>\n",
       "      <td>190555550</td>\n",
       "      <td>None</td>\n",
       "      <td>87202330</td>\n",
       "      <td>Conduct GTD weekly review according to templat...</td>\n",
       "      <td>2017-12-31 09:27:04-05:00</td>\n",
       "      <td>None</td>\n",
       "      <td>None</td>\n",
       "    </tr>\n",
       "    <tr>\n",
       "      <th>2</th>\n",
       "      <td>180416408</td>\n",
       "      <td>None</td>\n",
       "      <td>2453991536</td>\n",
       "      <td>Sort items for Keep and Donation in Jesse's ro...</td>\n",
       "      <td>2017-12-31 09:12:46-05:00</td>\n",
       "      <td>None</td>\n",
       "      <td>None</td>\n",
       "    </tr>\n",
       "    <tr>\n",
       "      <th>3</th>\n",
       "      <td>190555550</td>\n",
       "      <td>None</td>\n",
       "      <td>84028045</td>\n",
       "      <td>Do some form of physical activity (run, lift, ...</td>\n",
       "      <td>2017-12-31 09:11:41-05:00</td>\n",
       "      <td>None</td>\n",
       "      <td>None</td>\n",
       "    </tr>\n",
       "    <tr>\n",
       "      <th>4</th>\n",
       "      <td>2165537638</td>\n",
       "      <td>None</td>\n",
       "      <td>2449385146</td>\n",
       "      <td>PlanningGraph.h_levelsum method @30-minutes @H...</td>\n",
       "      <td>2017-12-30 10:24:19-05:00</td>\n",
       "      <td>None</td>\n",
       "      <td>None</td>\n",
       "    </tr>\n",
       "    <tr>\n",
       "      <th>5</th>\n",
       "      <td>180416408</td>\n",
       "      <td>None</td>\n",
       "      <td>2453016179</td>\n",
       "      <td>Deliver cube storage unit to Shamika in Greenb...</td>\n",
       "      <td>2017-12-29 22:34:41-05:00</td>\n",
       "      <td>None</td>\n",
       "      <td>None</td>\n",
       "    </tr>\n",
       "    <tr>\n",
       "      <th>6</th>\n",
       "      <td>180416408</td>\n",
       "      <td>None</td>\n",
       "      <td>2453016018</td>\n",
       "      <td>Sort items from basement and closet into piles...</td>\n",
       "      <td>2017-12-29 22:34:07-05:00</td>\n",
       "      <td>None</td>\n",
       "      <td>None</td>\n",
       "    </tr>\n",
       "    <tr>\n",
       "      <th>7</th>\n",
       "      <td>2165537638</td>\n",
       "      <td>None</td>\n",
       "      <td>2449385064</td>\n",
       "      <td>PlanningGraph.inconsistent_support_mutex metho...</td>\n",
       "      <td>2017-12-29 20:47:32-05:00</td>\n",
       "      <td>None</td>\n",
       "      <td>None</td>\n",
       "    </tr>\n",
       "    <tr>\n",
       "      <th>8</th>\n",
       "      <td>2165537638</td>\n",
       "      <td>None</td>\n",
       "      <td>2449384974</td>\n",
       "      <td>PlanningGraph.negation_mutex method @Low-energ...</td>\n",
       "      <td>2017-12-29 20:36:38-05:00</td>\n",
       "      <td>None</td>\n",
       "      <td>None</td>\n",
       "    </tr>\n",
       "    <tr>\n",
       "      <th>9</th>\n",
       "      <td>2165537638</td>\n",
       "      <td>None</td>\n",
       "      <td>2449384886</td>\n",
       "      <td>PlanningGraph.competing_needs_mutex method @30...</td>\n",
       "      <td>2017-12-29 20:23:19-05:00</td>\n",
       "      <td>None</td>\n",
       "      <td>None</td>\n",
       "    </tr>\n",
       "    <tr>\n",
       "      <th>10</th>\n",
       "      <td>2165537638</td>\n",
       "      <td>None</td>\n",
       "      <td>2449384828</td>\n",
       "      <td>PlanningGraph.interference_mutex method @30-mi...</td>\n",
       "      <td>2017-12-29 20:23:19-05:00</td>\n",
       "      <td>None</td>\n",
       "      <td>None</td>\n",
       "    </tr>\n",
       "    <tr>\n",
       "      <th>11</th>\n",
       "      <td>2165537638</td>\n",
       "      <td>None</td>\n",
       "      <td>2449384759</td>\n",
       "      <td>PlanningGraph.inconsistent_effects_mutex metho...</td>\n",
       "      <td>2017-12-29 20:23:19-05:00</td>\n",
       "      <td>None</td>\n",
       "      <td>None</td>\n",
       "    </tr>\n",
       "    <tr>\n",
       "      <th>12</th>\n",
       "      <td>2165537638</td>\n",
       "      <td>None</td>\n",
       "      <td>2449384532</td>\n",
       "      <td>PlanningGraph.add_literal_level method @30-min...</td>\n",
       "      <td>2017-12-28 16:07:42-05:00</td>\n",
       "      <td>None</td>\n",
       "      <td>None</td>\n",
       "    </tr>\n",
       "    <tr>\n",
       "      <th>13</th>\n",
       "      <td>2165537638</td>\n",
       "      <td>None</td>\n",
       "      <td>2449384233</td>\n",
       "      <td>PlanningGraph.add_action_level method @30-minu...</td>\n",
       "      <td>2017-12-28 16:07:42-05:00</td>\n",
       "      <td>None</td>\n",
       "      <td>None</td>\n",
       "    </tr>\n",
       "    <tr>\n",
       "      <th>14</th>\n",
       "      <td>190555550</td>\n",
       "      <td>None</td>\n",
       "      <td>84028045</td>\n",
       "      <td>Do some form of physical activity (run, lift, ...</td>\n",
       "      <td>2017-12-27 20:50:06-05:00</td>\n",
       "      <td>None</td>\n",
       "      <td>None</td>\n",
       "    </tr>\n",
       "    <tr>\n",
       "      <th>15</th>\n",
       "      <td>180416408</td>\n",
       "      <td>None</td>\n",
       "      <td>2450858498</td>\n",
       "      <td>Purchase hardware at Lowe's to fix up bed befo...</td>\n",
       "      <td>2017-12-27 17:07:53-05:00</td>\n",
       "      <td>None</td>\n",
       "      <td>None</td>\n",
       "    </tr>\n",
       "    <tr>\n",
       "      <th>16</th>\n",
       "      <td>180416408</td>\n",
       "      <td>None</td>\n",
       "      <td>2450807723</td>\n",
       "      <td>Post TV for sale on Craiglist / Facebook @30-m...</td>\n",
       "      <td>2017-12-27 16:06:48-05:00</td>\n",
       "      <td>None</td>\n",
       "      <td>None</td>\n",
       "    </tr>\n",
       "    <tr>\n",
       "      <th>17</th>\n",
       "      <td>180416408</td>\n",
       "      <td>None</td>\n",
       "      <td>2450808074</td>\n",
       "      <td>Post bed for sale on Craigslist / Facebook @30...</td>\n",
       "      <td>2017-12-27 16:06:47-05:00</td>\n",
       "      <td>None</td>\n",
       "      <td>None</td>\n",
       "    </tr>\n",
       "    <tr>\n",
       "      <th>18</th>\n",
       "      <td>180416408</td>\n",
       "      <td>None</td>\n",
       "      <td>2450808329</td>\n",
       "      <td>Post cube storage unit for sale on Craigslist ...</td>\n",
       "      <td>2017-12-27 16:06:44-05:00</td>\n",
       "      <td>None</td>\n",
       "      <td>None</td>\n",
       "    </tr>\n",
       "    <tr>\n",
       "      <th>19</th>\n",
       "      <td>180416408</td>\n",
       "      <td>None</td>\n",
       "      <td>2448801044</td>\n",
       "      <td>Complete annual review for the past year (2017...</td>\n",
       "      <td>2017-12-26 21:50:58-05:00</td>\n",
       "      <td>None</td>\n",
       "      <td>None</td>\n",
       "    </tr>\n",
       "    <tr>\n",
       "      <th>20</th>\n",
       "      <td>181003063</td>\n",
       "      <td>None</td>\n",
       "      <td>2448805117</td>\n",
       "      <td>Send emails reviewing transition topics with K...</td>\n",
       "      <td>2017-12-26 14:52:39-05:00</td>\n",
       "      <td>None</td>\n",
       "      <td>None</td>\n",
       "    </tr>\n",
       "    <tr>\n",
       "      <th>21</th>\n",
       "      <td>181003063</td>\n",
       "      <td>None</td>\n",
       "      <td>2448804946</td>\n",
       "      <td>Meet with Kevin to go over connectivity PV lis...</td>\n",
       "      <td>2017-12-26 14:04:45-05:00</td>\n",
       "      <td>None</td>\n",
       "      <td>None</td>\n",
       "    </tr>\n",
       "    <tr>\n",
       "      <th>22</th>\n",
       "      <td>180416408</td>\n",
       "      <td>None</td>\n",
       "      <td>2448763536</td>\n",
       "      <td>Cancel Vanguard direct deposit from Siemens pa...</td>\n",
       "      <td>2017-12-26 08:50:18-05:00</td>\n",
       "      <td>None</td>\n",
       "      <td>None</td>\n",
       "    </tr>\n",
       "    <tr>\n",
       "      <th>23</th>\n",
       "      <td>180416408</td>\n",
       "      <td>None</td>\n",
       "      <td>2448248234</td>\n",
       "      <td>Verify availability of floating holiday with S...</td>\n",
       "      <td>2017-12-26 08:38:28-05:00</td>\n",
       "      <td>None</td>\n",
       "      <td>None</td>\n",
       "    </tr>\n",
       "    <tr>\n",
       "      <th>24</th>\n",
       "      <td>190555550</td>\n",
       "      <td>None</td>\n",
       "      <td>87202330</td>\n",
       "      <td>Conduct GTD weekly review according to templat...</td>\n",
       "      <td>2017-12-26 06:58:17-05:00</td>\n",
       "      <td>None</td>\n",
       "      <td>None</td>\n",
       "    </tr>\n",
       "    <tr>\n",
       "      <th>25</th>\n",
       "      <td>2165537638</td>\n",
       "      <td>None</td>\n",
       "      <td>2431987648</td>\n",
       "      <td>Implement heuristic method in my_air_cargo_pro...</td>\n",
       "      <td>2017-12-25 20:48:13-05:00</td>\n",
       "      <td>None</td>\n",
       "      <td>None</td>\n",
       "    </tr>\n",
       "    <tr>\n",
       "      <th>26</th>\n",
       "      <td>190555550</td>\n",
       "      <td>None</td>\n",
       "      <td>84028045</td>\n",
       "      <td>Do some form of physical activity (run, lift, ...</td>\n",
       "      <td>2017-12-25 20:48:04-05:00</td>\n",
       "      <td>None</td>\n",
       "      <td>None</td>\n",
       "    </tr>\n",
       "    <tr>\n",
       "      <th>27</th>\n",
       "      <td>190555550</td>\n",
       "      <td>None</td>\n",
       "      <td>2200735265</td>\n",
       "      <td>Do the laundry and fold clothes (if time allow...</td>\n",
       "      <td>2017-12-25 20:48:02-05:00</td>\n",
       "      <td>None</td>\n",
       "      <td>None</td>\n",
       "    </tr>\n",
       "    <tr>\n",
       "      <th>28</th>\n",
       "      <td>180416408</td>\n",
       "      <td>None</td>\n",
       "      <td>2447969585</td>\n",
       "      <td>Order LCD heat plate from eBay to complete rep...</td>\n",
       "      <td>2017-12-23 17:58:18-05:00</td>\n",
       "      <td>None</td>\n",
       "      <td>None</td>\n",
       "    </tr>\n",
       "    <tr>\n",
       "      <th>29</th>\n",
       "      <td>180416408</td>\n",
       "      <td>None</td>\n",
       "      <td>2447969253</td>\n",
       "      <td>Reintroduce Graham to Sam to discuss internshi...</td>\n",
       "      <td>2017-12-23 17:57:27-05:00</td>\n",
       "      <td>None</td>\n",
       "      <td>None</td>\n",
       "    </tr>\n",
       "  </tbody>\n",
       "</table>\n",
       "</div>"
      ],
      "text/plain": [
       "    Project_Id Project     Item_Id  \\\n",
       "0    190555550    None  2200735265   \n",
       "1    190555550    None    87202330   \n",
       "2    180416408    None  2453991536   \n",
       "3    190555550    None    84028045   \n",
       "4   2165537638    None  2449385146   \n",
       "5    180416408    None  2453016179   \n",
       "6    180416408    None  2453016018   \n",
       "7   2165537638    None  2449385064   \n",
       "8   2165537638    None  2449384974   \n",
       "9   2165537638    None  2449384886   \n",
       "10  2165537638    None  2449384828   \n",
       "11  2165537638    None  2449384759   \n",
       "12  2165537638    None  2449384532   \n",
       "13  2165537638    None  2449384233   \n",
       "14   190555550    None    84028045   \n",
       "15   180416408    None  2450858498   \n",
       "16   180416408    None  2450807723   \n",
       "17   180416408    None  2450808074   \n",
       "18   180416408    None  2450808329   \n",
       "19   180416408    None  2448801044   \n",
       "20   181003063    None  2448805117   \n",
       "21   181003063    None  2448804946   \n",
       "22   180416408    None  2448763536   \n",
       "23   180416408    None  2448248234   \n",
       "24   190555550    None    87202330   \n",
       "25  2165537638    None  2431987648   \n",
       "26   190555550    None    84028045   \n",
       "27   190555550    None  2200735265   \n",
       "28   180416408    None  2447969585   \n",
       "29   180416408    None  2447969253   \n",
       "\n",
       "                                              Content  \\\n",
       "0   Do the laundry and fold clothes (if time allow...   \n",
       "1   Conduct GTD weekly review according to templat...   \n",
       "2   Sort items for Keep and Donation in Jesse's ro...   \n",
       "3   Do some form of physical activity (run, lift, ...   \n",
       "4   PlanningGraph.h_levelsum method @30-minutes @H...   \n",
       "5   Deliver cube storage unit to Shamika in Greenb...   \n",
       "6   Sort items from basement and closet into piles...   \n",
       "7   PlanningGraph.inconsistent_support_mutex metho...   \n",
       "8   PlanningGraph.negation_mutex method @Low-energ...   \n",
       "9   PlanningGraph.competing_needs_mutex method @30...   \n",
       "10  PlanningGraph.interference_mutex method @30-mi...   \n",
       "11  PlanningGraph.inconsistent_effects_mutex metho...   \n",
       "12  PlanningGraph.add_literal_level method @30-min...   \n",
       "13  PlanningGraph.add_action_level method @30-minu...   \n",
       "14  Do some form of physical activity (run, lift, ...   \n",
       "15  Purchase hardware at Lowe's to fix up bed befo...   \n",
       "16  Post TV for sale on Craiglist / Facebook @30-m...   \n",
       "17  Post bed for sale on Craigslist / Facebook @30...   \n",
       "18  Post cube storage unit for sale on Craigslist ...   \n",
       "19  Complete annual review for the past year (2017...   \n",
       "20  Send emails reviewing transition topics with K...   \n",
       "21  Meet with Kevin to go over connectivity PV lis...   \n",
       "22  Cancel Vanguard direct deposit from Siemens pa...   \n",
       "23  Verify availability of floating holiday with S...   \n",
       "24  Conduct GTD weekly review according to templat...   \n",
       "25  Implement heuristic method in my_air_cargo_pro...   \n",
       "26  Do some form of physical activity (run, lift, ...   \n",
       "27  Do the laundry and fold clothes (if time allow...   \n",
       "28  Order LCD heat plate from eBay to complete rep...   \n",
       "29  Reintroduce Graham to Sam to discuss internshi...   \n",
       "\n",
       "                        Date Energy  Time  \n",
       "0  2017-12-31 09:27:08-05:00   None  None  \n",
       "1  2017-12-31 09:27:04-05:00   None  None  \n",
       "2  2017-12-31 09:12:46-05:00   None  None  \n",
       "3  2017-12-31 09:11:41-05:00   None  None  \n",
       "4  2017-12-30 10:24:19-05:00   None  None  \n",
       "5  2017-12-29 22:34:41-05:00   None  None  \n",
       "6  2017-12-29 22:34:07-05:00   None  None  \n",
       "7  2017-12-29 20:47:32-05:00   None  None  \n",
       "8  2017-12-29 20:36:38-05:00   None  None  \n",
       "9  2017-12-29 20:23:19-05:00   None  None  \n",
       "10 2017-12-29 20:23:19-05:00   None  None  \n",
       "11 2017-12-29 20:23:19-05:00   None  None  \n",
       "12 2017-12-28 16:07:42-05:00   None  None  \n",
       "13 2017-12-28 16:07:42-05:00   None  None  \n",
       "14 2017-12-27 20:50:06-05:00   None  None  \n",
       "15 2017-12-27 17:07:53-05:00   None  None  \n",
       "16 2017-12-27 16:06:48-05:00   None  None  \n",
       "17 2017-12-27 16:06:47-05:00   None  None  \n",
       "18 2017-12-27 16:06:44-05:00   None  None  \n",
       "19 2017-12-26 21:50:58-05:00   None  None  \n",
       "20 2017-12-26 14:52:39-05:00   None  None  \n",
       "21 2017-12-26 14:04:45-05:00   None  None  \n",
       "22 2017-12-26 08:50:18-05:00   None  None  \n",
       "23 2017-12-26 08:38:28-05:00   None  None  \n",
       "24 2017-12-26 06:58:17-05:00   None  None  \n",
       "25 2017-12-25 20:48:13-05:00   None  None  \n",
       "26 2017-12-25 20:48:04-05:00   None  None  \n",
       "27 2017-12-25 20:48:02-05:00   None  None  \n",
       "28 2017-12-23 17:58:18-05:00   None  None  \n",
       "29 2017-12-23 17:57:27-05:00   None  None  "
      ]
     },
     "execution_count": 9,
     "metadata": {},
     "output_type": "execute_result"
    }
   ],
   "source": [
    "itemTable.iloc[0:30]"
   ]
  },
  {
   "cell_type": "markdown",
   "metadata": {
    "collapsed": true
   },
   "source": [
    "# Step 3: Data Analysis"
   ]
  },
  {
   "cell_type": "markdown",
   "metadata": {},
   "source": [
    "## Number of tasks completed each week\n",
    "\n",
    "I am quite interested in investigating how many tasks I completed each week for the past year. In order to do this, I'll group the number of items completed each week (in the Item Table) and plot that information."
   ]
  },
  {
   "cell_type": "code",
   "execution_count": null,
   "metadata": {
    "collapsed": true
   },
   "outputs": [],
   "source": [
    "# Produces a Pandas groupby object with date, project as keys, and indices of relevant columns\n",
    "gDateProject_all = itemTable.groupby([pd.Grouper(freq='1W', key='Date'),'Project'], as_index=True)\n",
    "\n",
    "# Gives list of dictionary keys and indices of relevant columns\n",
    "gDateProject_all.groups\n",
    "\n",
    "# Gives count of items in grouped list (by dictionary key)\n",
    "gDateProject_all.count()\n",
    "\n",
    "# Gets slice of relevant column from grouped dataframe\n",
    "gDateProject_content = gDateProject_all['Content']\n",
    "\n",
    "# Gives count of items from sliced column\n",
    "gDateProject_content = gDateProject_content.count()\n",
    "#gDateProject_content"
   ]
  },
  {
   "cell_type": "code",
   "execution_count": null,
   "metadata": {
    "collapsed": true
   },
   "outputs": [],
   "source": [
    "# Groups already grouped dataframe by parent index (level=0) AND sums it up\n",
    "gDate_content_count = gDateProject_content.groupby(level=0)\n",
    "gDate_content_count = gDate_content_count.sum()\n",
    "#gDate_content_count"
   ]
  },
  {
   "cell_type": "code",
   "execution_count": null,
   "metadata": {
    "collapsed": true,
    "scrolled": true
   },
   "outputs": [],
   "source": [
    "# Raw table showing all the tasks completed each week this year\n",
    "gDate_vProject = gDateProject_content.unstack(level=1, fill_value=0)\n",
    "gDate_vProject"
   ]
  },
  {
   "cell_type": "code",
   "execution_count": null,
   "metadata": {
    "collapsed": true,
    "scrolled": false
   },
   "outputs": [],
   "source": [
    "%pylab inline\n",
    "\n",
    "stackTaskCompleted = gDate_vProject.plot.bar(stacked=True, figsize=(15, 15))\n",
    "stackTaskCompleted.set_ylabel(\"Tasks Completed\")\n",
    "stackTaskCompleted.set_title(\"Weekly Task Completion\")"
   ]
  },
  {
   "cell_type": "markdown",
   "metadata": {},
   "source": [
    "It's interesting to note some of the peaks and valley's in the graph above (each x-axis label represents the date on which a week ends): \n",
    "- I was puzzled by low task completion numbers at the end of March and early April. Upon further reflection, I realized that during this time period I was in Europe with my parents (on vacation).\n",
    "- There were a few weeks at the end of July and during August which were extremely fruitful. Unsurprising, since that month involved a sprint to complete my Intro to Programming Nanodegree, moving apartments, important work deadlines, and preparation for my trip to Japan.\n",
    "\n",
    "This information is quite interesting, but I know that not all tasks are created equal. Completing a dizzying array of low-energy tasks (taking out the trash, buying tickets to a show, cancelling my Comcast subscription, etc) doesn't really help me achieve big, hairy goals."
   ]
  },
  {
   "cell_type": "markdown",
   "metadata": {},
   "source": [
    "# Relationship between energy level and overall task completion\n",
    "\n",
    "In order to get a more accurate picture of productivity, I want to compare the number of high-energy tasks (which require deep work) agains the total number of tasks completed in each week. \n",
    "\n",
    "Below, I first graph the overall breakdown of tasks by energy type. Second, I compare the number of total tasks completed with the number of high energy tasks completed each week."
   ]
  },
  {
   "cell_type": "code",
   "execution_count": null,
   "metadata": {
    "collapsed": true,
    "scrolled": false
   },
   "outputs": [],
   "source": [
    "# Plot of tasks completed each week by energy level\n",
    "\n",
    "gDateEnergy = itemTable.groupby([pd.Grouper(freq='1W', key='Date'),'Energy'], as_index=True)\n",
    "gDateEnergy_content = gDateEnergy['Content']\n",
    "\n",
    "# cust = itemTable.groupby(['Energy'], as_index=True)\n",
    "# cust.get_group('Normal-energy')"
   ]
  },
  {
   "cell_type": "code",
   "execution_count": null,
   "metadata": {
    "collapsed": true
   },
   "outputs": [],
   "source": [
    "gDateEnergy_plot = gDateEnergy_content.count().unstack().plot.bar(stacked=True, figsize=(10, 10))\n",
    "gDateEnergy_plot.set_title('Task Completion (Sorted by Energy Level)')\n",
    "gDateEnergy_plot.set_ylabel(\"Tasks Completed\")"
   ]
  },
  {
   "cell_type": "code",
   "execution_count": null,
   "metadata": {
    "collapsed": true
   },
   "outputs": [],
   "source": [
    "# gDateEnergy_content.count()\n",
    "gDate_vEnergy = gDateEnergy_content.count().unstack()\n",
    "gDate_vEnergy = gDate_vEnergy.fillna(0)"
   ]
  },
  {
   "cell_type": "code",
   "execution_count": null,
   "metadata": {
    "collapsed": true,
    "scrolled": true
   },
   "outputs": [],
   "source": [
    "gDate_vEnergy['Total'] = gDate_vEnergy.sum(axis=1)\n",
    "gDate_vEnergy"
   ]
  },
  {
   "cell_type": "code",
   "execution_count": null,
   "metadata": {
    "collapsed": true,
    "scrolled": false
   },
   "outputs": [],
   "source": [
    "highEnergy_vTotal = gDate_vEnergy.plot(x='Total', y='High-energy', style='o', figsize=(10, 10))\n",
    "highEnergy_vTotal.set_xlim([0,53])\n",
    "highEnergy_vTotal.set_ylim([-1,12])\n",
    "highEnergy_vTotal.set_title('Relationship b/w high energy and total task count')\n",
    "highEnergy_vTotal.set_xlabel('# Of Total Tasks')\n",
    "highEnergy_vTotal.set_ylabel('# Of High-Energy Tasks')\n",
    "\n",
    "gDate_vEnergy_x = gDate_vEnergy['Total']\n",
    "gDate_vEnergy_y = gDate_vEnergy['High-energy']\n",
    "\n",
    "gDate_vEnergy_fit = np.polyfit(gDate_vEnergy_x, gDate_vEnergy_y, deg=1)\n",
    "highEnergy_vTotal.plot(gDate_vEnergy_x, gDate_vEnergy_fit[0] * gDate_vEnergy_x + gDate_vEnergy_fit[1], color='red')\n",
    "\n",
    "highEnergy_vTotal_corr = gDate_vEnergy['High-energy'].corr(gDate_vEnergy['Total'])\n",
    "print ('Correlation: ' + str(round(highEnergy_vTotal_corr,2)))\n",
    "\n",
    "# gDateEnergy_content.count().groupby(level=1).sum()"
   ]
  },
  {
   "cell_type": "markdown",
   "metadata": {},
   "source": [
    "As shown by the plot, there is a positive correlation between the number of high-energy tasks and the total number of tasks completed each week. This result was quite surprising to me. My intuition suggested that I got a fewer total number of tasks completed on the weeks that I got a lot of high-energy tasks done (because they tend to take a longer amount of time). But as it turns out, getting high-energy tasks motivates me to get more done overall."
   ]
  },
  {
   "cell_type": "markdown",
   "metadata": {},
   "source": [
    "## Miscellaneous"
   ]
  },
  {
   "cell_type": "markdown",
   "metadata": {},
   "source": [
    "One of my side responsibilites at work is to coordinate the receipt and shipment of prototype parts to other locations. I was curious to see how many shipments I had made (by filtering tasks by the word \"ship\")."
   ]
  },
  {
   "cell_type": "code",
   "execution_count": null,
   "metadata": {
    "collapsed": true
   },
   "outputs": [],
   "source": [
    "ship_hash = itemTable['Content'].str.contains(\"ship\")\n",
    "print (\"Total Shipments : \" + str(ship_hash.sum()))"
   ]
  },
  {
   "cell_type": "markdown",
   "metadata": {},
   "source": [
    "Wow! That's a lot of shipments. I'm going to discuss this with my manager to see whether we can hire someone to make shipments for us.\n",
    "\n",
    "Next, I was interested to investigate how many meetings I had attended or hosted."
   ]
  },
  {
   "cell_type": "code",
   "execution_count": null,
   "metadata": {
    "collapsed": true
   },
   "outputs": [],
   "source": [
    "itemTable['Content'] = itemTable['Content'].str.lower()\n",
    "meeting_hash = itemTable['Content'].str.contains(\"meeting\")\n",
    "print (\"Total Meeting Count : \" + str(meeting_hash.sum()))"
   ]
  },
  {
   "cell_type": "code",
   "execution_count": null,
   "metadata": {
    "collapsed": true
   },
   "outputs": [],
   "source": [
    "totalMeetingTime = ((itemTable['Time'] * meeting_hash).sum()) / 60\n",
    "print (\"Total Meeting Time : \" + str(round(totalMeetingTime)) + \" \" + \"Hours\")"
   ]
  },
  {
   "cell_type": "markdown",
   "metadata": {},
   "source": [
    "Overall, I spent over a month in meetings (assuming 40hr work weeks) this year! Because of the nature of my work, it is unlikely that I will ever be able to get this close to zero. However, I wouldn't be surprised if I could reduce meeting time in half; I should also have a discussion with my manager on how to do this."
   ]
  },
  {
   "cell_type": "markdown",
   "metadata": {},
   "source": [
    "# Conclusion\n",
    "\n",
    "This project was quite helpful in understanding some basic facts about my productivity history:\n",
    "\n",
    "- Overall, I learned that the end of June and early August were my most productive months (when I had quite a few parallel projects due)\n",
    "- There is a positive correlation between the number of high-level energy tasks completed and total tasks. Getting the hard tasks accomplished may motivate me to complete more of the easier tasks.\n",
    "- I've spent a significant portion of my time (over 150+ hours) in meetings and making shipments. I need to have a discussion about these two topics with manager to see how we can reduce the amount of time spent on them.\n",
    "\n",
    "Completing this analyis only leads to more questions, however. In a future revision to this project, I would be curious to explore the following:\n",
    "- How did the number of meetings in a week affect the total number of high-energy tasks completed?\n",
    "- Why exactly was I able to complete more high-energy tasks in certain weeks as opposed to others? Could the number of my social engagements with friends have had an impact?\n",
    "- Was I able to complete high-energy tasks during the week or on the weekend?\n"
   ]
  }
 ],
 "metadata": {
  "kernelspec": {
   "display_name": "Python 3",
   "language": "python",
   "name": "python3"
  },
  "language_info": {
   "codemirror_mode": {
    "name": "ipython",
    "version": 3
   },
   "file_extension": ".py",
   "mimetype": "text/x-python",
   "name": "python",
   "nbconvert_exporter": "python",
   "pygments_lexer": "ipython3",
   "version": "3.6.2"
  }
 },
 "nbformat": 4,
 "nbformat_minor": 2
}
